{
  "nbformat": 4,
  "nbformat_minor": 0,
  "metadata": {
    "colab": {
      "provenance": []
    },
    "kernelspec": {
      "name": "python3",
      "display_name": "Python 3"
    },
    "language_info": {
      "name": "python"
    }
  },
  "cells": [
    {
      "cell_type": "code",
      "execution_count": null,
      "metadata": {
        "id": "DbZLQ8LCQA5Z"
      },
      "outputs": [],
      "source": []
    },
    {
      "cell_type": "markdown",
      "source": [
        "**Theory Questions**\n",
        "\n",
        "###Q.1: What is Object-Oriented Programming (OOP)?\n",
        "Ans.\n",
        "\n",
        "Object-Oriented Programming (OOP) is a programming paradigm based on the concept of \"objects\" which contain data in the form of fields (attributes or properties) and code in the form of procedures (methods). OOP focuses on organizing software design around data, or objects, rather than functions and logic.\n",
        "\n",
        "### Q.2: What is a class in OOP?\n",
        "Ans.\n",
        "\n",
        "A class in OOP is a blueprint or template for creating objects. It defines the data attributes and behaviors (methods) that the objects created from the class will have.\n",
        "\n",
        "### Q.3: What is an object in OOP?\n",
        "Ans.\n",
        "\n",
        "An object is an instance of a class. It represents a specific entity with actual values for the attributes defined by its class and the ability to perform behaviors defined by its class.\n",
        "\n",
        "###Q.4: What is the difference between abstraction and encapsulation?\n",
        "Ans.\n",
        "\n",
        "Abstraction: It is the concept of hiding the complex implementation details and showing only the necessary features of an object to the user.\n",
        "\n",
        "Encapsulation: It is the technique of bundling data (attributes) and methods that operate on the data within one unit, i.e., a class, and restricting access to some components by making them private.\n",
        "\n",
        "###Q.5: What are dunder methods in Python?\n",
        "Ans.\n",
        "\n",
        "Dunder methods (short for \"double underscore\" methods) are special predefined methods in Python that have names starting and ending with double underscores, such as __init__, __str__, and __repr__. They allow customization of class behavior and enable operator overloading.\n",
        "\n",
        "###Q.6: Explain the concept of inheritance in OOP.\n",
        "Ans.\n",
        "\n",
        "Inheritance is an OOP principle where a new class (child class) inherits properties and behaviors (attributes and methods) from an existing class (parent class), enabling code reuse and the creation of hierarchical relationships.\n",
        "\n",
        "###Q.7: What is polymorphism in OOP?\n",
        "Ans.\n",
        "\n",
        "Polymorphism is the ability of different classes to be treated as instances of the same class through inheritance, and it allows methods to perform different behaviors based on the object that invokes them.\n",
        "\n",
        "###Q.8: How is encapsulation achieved in Python?\n",
        "Ans.\n",
        "\n",
        "Encapsulation in Python can be achieved by using private attributes and methods with name mangling (prefixing with double underscores __) or through property decorators to control access to attributes.\n",
        "\n",
        "###Q.9: What is a constructor in Python?\n",
        "Ans.\n",
        "\n",
        "A constructor in Python is a special method __init__() that is automatically called when an object of a class is instantiated. It initializes the attributes of the object.\n",
        "\n",
        "###Q.10: What are class and static methods in Python?\n",
        "Ans.\n",
        "\n",
        "Class methods are methods that take the class itself as the first argument, marked with the @classmethod decorator. They can access and modify class state.\n",
        "\n",
        "Static methods are methods marked with the @staticmethod decorator that do not take the instance or class as the first argument and behave like regular functions inside a class.\n",
        "\n",
        "###Q.11: What is method overloading in Python?\n",
        "Ans.\n",
        "\n",
        "Python does not support traditional method overloading as in some other languages. Instead, it allows default arguments or variable-length argument lists to achieve similar functionality.\n",
        "\n",
        "###Q.12: What is method overriding in OOP?\n",
        "Ans.\n",
        "\n",
        "Method overriding occurs when a child class provides a specific implementation of a method that is already defined in its parent class, allowing the child class to modify or extend the behavior.\n",
        "\n",
        "###Q.13: What is a property decorator in Python?\n",
        "Ans.\n",
        "\n",
        "The @property decorator allows a method to be accessed like an attribute, enabling getter functionality while encapsulating internal data.\n",
        "\n",
        "###Q.14: Why is polymorphism important in OOP?\n",
        "Ans.\n",
        "\n",
        "Polymorphism allows for flexibility and integration in code, enabling the same interface to be used for different data types or classes, which makes code more extensible and easier to maintain.\n",
        "\n",
        "###Q.15: What is an abstract class in Python?\n",
        "Ans.\n",
        "\n",
        "An abstract class is a class that cannot be instantiated and is designed to be subclassed. It can contain abstract methods that must be implemented by derived classes, typically implemented using the abc module.\n",
        "\n",
        "###Q.16: What are the advantages of OOP?\n",
        "Ans.\n",
        "\n",
        "Advantages include code reusability through inheritance, improved maintainability via modular code, easier troubleshooting, better data organization, and the ability to model real-world entities effectively.\n",
        "\n",
        "###Q.17: What is the difference between a class variable and an instance variable?\n",
        "Ans.\n",
        "\n",
        "Class variable is shared by all instances of the class.\n",
        "\n",
        "Instance variable is unique to each instance of the class.\n",
        "\n",
        "###Q.18: What is multiple inheritance in Python?\n",
        "Ans.\n",
        "\n",
        "Multiple inheritance is a feature where a class can inherit attributes and methods from more than one parent class.\n",
        "\n",
        "###Q.19: Explain the purpose of __str__ and __repr__ methods in Python.\n",
        "Ans.\n",
        "\n",
        "__str__ is used to provide a readable string representation of an object for end users.\n",
        "\n",
        "__repr__ provides an unambiguous string representation of an object, useful for debugging.\n",
        "\n",
        "###Q.20: What is the significance of the super() function in Python?\n",
        "Ans.\n",
        "\n",
        "The super() function is used to call methods from a parent or sibling class, enabling access to inherited methods that have been overridden.\n",
        "\n",
        "###Q.21: What is the significance of the __del__ method in Python?\n",
        "Ans.\n",
        "\n",
        "The __del__ method is a destructor called when an object is about to be destroyed, used to clean up resources.\n",
        "\n",
        "###Q.22: What is the difference between @staticmethod and @classmethod in Python?\n",
        "Ans.\n",
        "\n",
        "@staticmethod defines a method that does not receive an implicit first argument and behaves like a regular function within the class.\n",
        "\n",
        "@classmethod receives the class as the first argument and can modify class state.\n",
        "\n",
        "###Q.23: How does polymorphism work in Python with inheritance?\n",
        "Ans.\n",
        "\n",
        "In Python, polymorphism works by allowing derived classes to override methods of base classes. Objects of derived classes can be treated as objects of the base class, and the overridden methods will be called according to the actual object's class.\n",
        "\n",
        "###Q.24: What is method chaining in Python OOP?\n",
        "Ans.\n",
        "\n",
        "Method chaining is a programming style where multiple methods are called on the same object consecutively in a single statement by having each method return the object itself.\n",
        "\n",
        "###Q.25: What is the purpose of the __call__ method in Python?\n",
        "Ans.\n",
        "\n",
        "The __call__ method allows an instance of a class to be called as if it were a function.\n",
        "\n",
        "\n",
        "\n",
        "\n",
        "\n",
        "\n",
        "\n",
        "\n",
        "\n",
        "\n",
        "\n",
        "\n",
        "\n",
        "\n",
        "\n",
        "\n",
        "\n",
        "\n",
        "\n",
        "\n",
        "\n",
        "\n",
        "\n",
        "\n",
        "\n",
        "\n"
      ],
      "metadata": {
        "id": "mB4avd7yqDQY"
      }
    },
    {
      "cell_type": "code",
      "source": [],
      "metadata": {
        "id": "b-7zbKgwQD_x"
      },
      "execution_count": null,
      "outputs": []
    },
    {
      "cell_type": "code",
      "source": [],
      "metadata": {
        "id": "KVtHIeVfQEPC"
      },
      "execution_count": null,
      "outputs": []
    },
    {
      "cell_type": "markdown",
      "source": [
        "**Practical Question**\n"
      ],
      "metadata": {
        "id": "bwzWpbqqQbp6"
      }
    },
    {
      "cell_type": "code",
      "source": [
        "'''Q.1: Create a parent class Animal with a method speak() that prints a generic message. Create a child class Dog that overrides the speak() method to print \"Bark!\".\n",
        "'''\n",
        "'Ans'\n",
        "class Animal:\n",
        "    def speak(self):\n",
        "        print(\"This is a generic animal sound.\")\n",
        "\n",
        "class Dog(Animal):\n",
        "    def speak(self):\n",
        "        print(\"Bark!\")\n",
        "\n",
        "dog = Dog()\n",
        "dog.speak()"
      ],
      "metadata": {
        "colab": {
          "base_uri": "https://localhost:8080/"
        },
        "id": "YSJuzYeVQESh",
        "outputId": "2180bf41-bfe5-42c1-d7e0-070b0873e652"
      },
      "execution_count": 2,
      "outputs": [
        {
          "output_type": "stream",
          "name": "stdout",
          "text": [
            "Bark!\n"
          ]
        }
      ]
    },
    {
      "cell_type": "code",
      "source": [
        "'''Q.2: Write a program to create an abstract class Shape with a method area(). Derive classes Circle and Rectangle from it and implement the area() method in both.\n",
        "'''\n",
        "'Ans'\n",
        "\n",
        "from abc import ABC, abstractmethod\n",
        "import math\n",
        "\n",
        "class Shape(ABC):\n",
        "    @abstractmethod\n",
        "    def area(self):\n",
        "        pass\n",
        "\n",
        "class Circle(Shape):\n",
        "    def __init__(self, radius):\n",
        "        self.radius = radius\n",
        "\n",
        "    def area(self):\n",
        "        return math.pi * self.radius ** 2\n",
        "\n",
        "class Rectangle(Shape):\n",
        "    def __init__(self, length, width):\n",
        "        self.length = length\n",
        "        self.width = width\n",
        "\n",
        "    def area(self):\n",
        "        return self.length * self.width\n",
        "\n",
        "circle = Circle(5)\n",
        "rectangle = Rectangle(4, 6)\n",
        "print(circle.area())\n",
        "print(rectangle.area())"
      ],
      "metadata": {
        "colab": {
          "base_uri": "https://localhost:8080/"
        },
        "id": "a0BvP_pNQEVl",
        "outputId": "dca2e524-1cf3-4c54-81a0-680f6f509607"
      },
      "execution_count": 3,
      "outputs": [
        {
          "output_type": "stream",
          "name": "stdout",
          "text": [
            "78.53981633974483\n",
            "24\n"
          ]
        }
      ]
    },
    {
      "cell_type": "code",
      "source": [
        "'''Q.3: Implement a multi-level inheritance scenario where a class Vehicle has an attribute type. Derive a class Car and further derive a class ElectricCar that adds a battery attribute.'''\n",
        "'Ans'\n",
        "\n",
        "class Vehicle:\n",
        "    def __init__(self, v_type):\n",
        "        self.type = v_type\n",
        "\n",
        "class Car(Vehicle):\n",
        "    def __init__(self, v_type, brand):\n",
        "        super().__init__(v_type)\n",
        "        self.brand = brand\n",
        "\n",
        "class ElectricCar(Car):\n",
        "    def __init__(self, v_type, brand, battery_capacity):\n",
        "        super().__init__(v_type, brand)\n",
        "        self.battery = battery_capacity\n",
        "\n",
        "ecar = ElectricCar(\"Car\", \"Tesla\", \"100 kWh\")\n",
        "print(ecar.type, ecar.brand, ecar.battery)"
      ],
      "metadata": {
        "colab": {
          "base_uri": "https://localhost:8080/"
        },
        "id": "nvsE-n7MQEZF",
        "outputId": "35d3d562-1f85-4ab4-da4e-901727329ed5"
      },
      "execution_count": 1,
      "outputs": [
        {
          "output_type": "stream",
          "name": "stdout",
          "text": [
            "Car Tesla 100 kWh\n"
          ]
        }
      ]
    },
    {
      "cell_type": "code",
      "source": [
        "'''Q.4: Demonstrate polymorphism by creating a base class Bird with a method fly(). Create two derived classes Sparrow and Penguin that override the fly() method.\n",
        "'''\n",
        "\n",
        "'Ans'\n",
        "\n",
        "class Bird:\n",
        "    def fly(self):\n",
        "        print(\"Flying...\")\n",
        "\n",
        "class Sparrow(Bird):\n",
        "    def fly(self):\n",
        "        print(\"Sparrow flying high!\")\n",
        "\n",
        "class Penguin(Bird):\n",
        "    def fly(self):\n",
        "        print(\"Penguins can't actually fly.\")\n",
        "\n",
        "sparrow = Sparrow()\n",
        "penguin = Penguin()\n",
        "sparrow.fly()\n",
        "penguin.fly()"
      ],
      "metadata": {
        "colab": {
          "base_uri": "https://localhost:8080/"
        },
        "id": "ae-aTlk8lk_H",
        "outputId": "362ce7e3-7fa6-414b-c8b8-f8ebbf050457"
      },
      "execution_count": 2,
      "outputs": [
        {
          "output_type": "stream",
          "name": "stdout",
          "text": [
            "Sparrow flying high!\n",
            "Penguins can't actually fly.\n"
          ]
        }
      ]
    },
    {
      "cell_type": "code",
      "source": [
        "\n",
        "'''Q.5: Write a program to demonstrate encapsulation by creating a class BankAccount with private attributes balance and methods to deposit, withdraw, and check balance.\n",
        "'''\n",
        "\n",
        "'Ans'\n",
        "\n",
        "class BankAccount:\n",
        "    def __init__(self, balance=0):\n",
        "        self.__balance = balance\n",
        "\n",
        "    def deposit(self, amount):\n",
        "        self.__balance += amount\n",
        "\n",
        "    def withdraw(self, amount):\n",
        "        if amount <= self.__balance:\n",
        "            self.__balance -= amount\n",
        "        else:\n",
        "            print(\"Insufficient balance\")\n",
        "\n",
        "    def get_balance(self):\n",
        "        return self.__balance\n",
        "\n",
        "account = BankAccount()\n",
        "account.deposit(1000)\n",
        "account.withdraw(500)\n",
        "print(account.get_balance())"
      ],
      "metadata": {
        "colab": {
          "base_uri": "https://localhost:8080/"
        },
        "id": "lPXQfovtmWxr",
        "outputId": "41cecdbf-e1e1-4d7d-ec74-3e829afdff7c"
      },
      "execution_count": 3,
      "outputs": [
        {
          "output_type": "stream",
          "name": "stdout",
          "text": [
            "500\n"
          ]
        }
      ]
    },
    {
      "cell_type": "code",
      "source": [
        "'''Q.6: Demonstrate runtime polymorphism using a method play() in a base class Instrument. Derive classes Guitar and Piano that implement their own version of play().\n",
        "'''\n",
        "'Ans'\n",
        "\n",
        "class Instrument:\n",
        "    def play(self):\n",
        "        print(\"Playing instrument...\")\n",
        "\n",
        "class Guitar(Instrument):\n",
        "    def play(self):\n",
        "        print(\"Strumming the guitar.\")\n",
        "\n",
        "class Piano(Instrument):\n",
        "    def play(self):\n",
        "        print(\"Playing the piano keys.\")\n",
        "\n",
        "instrument = Guitar()\n",
        "instrument.play()\n",
        "instrument = Piano()\n",
        "instrument.play()"
      ],
      "metadata": {
        "colab": {
          "base_uri": "https://localhost:8080/"
        },
        "id": "TenSnHVhmmcn",
        "outputId": "6a7dfced-e969-4b1e-99d8-dcf581c37d37"
      },
      "execution_count": 4,
      "outputs": [
        {
          "output_type": "stream",
          "name": "stdout",
          "text": [
            "Strumming the guitar.\n",
            "Playing the piano keys.\n"
          ]
        }
      ]
    },
    {
      "cell_type": "code",
      "source": [
        "'''Q.7: Create a class MathOperations with a class method add_numbers() to add two numbers and a static method subtract_numbers() to subtract two numbers.'''\n",
        "'Ans'\n",
        "\n",
        "class MathOperations:\n",
        "    @classmethod\n",
        "    def add_numbers(cls, a, b):\n",
        "        return a + b\n",
        "\n",
        "    @staticmethod\n",
        "    def subtract_numbers(a, b):\n",
        "        return a - b\n",
        "\n",
        "print(MathOperations.add_numbers(10, 5))\n",
        "print(MathOperations.subtract_numbers(10, 5))"
      ],
      "metadata": {
        "colab": {
          "base_uri": "https://localhost:8080/"
        },
        "id": "LjOWuEuzm3pA",
        "outputId": "1ef2cf35-0e08-4695-9703-92293e1e84ae"
      },
      "execution_count": 5,
      "outputs": [
        {
          "output_type": "stream",
          "name": "stdout",
          "text": [
            "15\n",
            "5\n"
          ]
        }
      ]
    },
    {
      "cell_type": "code",
      "source": [
        "'''Q.8: Implement a class Person with a class method to count the total number of persons created.\n",
        "'''\n",
        "'Ans'\n",
        "class Person:\n",
        "    count = 0\n",
        "\n",
        "    def __init__(self, name):\n",
        "        self.name = name\n",
        "        Person.count += 1\n",
        "\n",
        "    @classmethod\n",
        "    def get_count(cls):\n",
        "        return cls.count\n",
        "\n",
        "p1 = Person(\"Alice\")\n",
        "p2 = Person(\"Bob\")\n",
        "print(Person.get_count())"
      ],
      "metadata": {
        "colab": {
          "base_uri": "https://localhost:8080/"
        },
        "id": "0M71yvjQnT-A",
        "outputId": "f3191baa-baf1-4471-93aa-5000895dfd1a"
      },
      "execution_count": 6,
      "outputs": [
        {
          "output_type": "stream",
          "name": "stdout",
          "text": [
            "2\n"
          ]
        }
      ]
    },
    {
      "cell_type": "code",
      "source": [
        "'''Q.9: Write a class Fraction with attributes numerator and denominator. Override the str method to display the fraction as \"numerator/denominator\".\n",
        "'''\n",
        "'Ans'\n",
        "class Fraction:\n",
        "    def __init__(self, numerator, denominator):\n",
        "        self.numerator = numerator\n",
        "        self.denominator = denominator\n",
        "\n",
        "    def __str__(self):\n",
        "        return f\"{self.numerator}/{self.denominator}\"\n",
        "\n",
        "frac = Fraction(3, 4)\n",
        "print(frac)"
      ],
      "metadata": {
        "colab": {
          "base_uri": "https://localhost:8080/"
        },
        "id": "fYlFH9qongTF",
        "outputId": "b8f5cf80-ef9f-47f8-b3bb-dfa8b72e52b2"
      },
      "execution_count": 7,
      "outputs": [
        {
          "output_type": "stream",
          "name": "stdout",
          "text": [
            "3/4\n"
          ]
        }
      ]
    },
    {
      "cell_type": "code",
      "source": [
        "'''Q.10: Demonstrate operator overloading by creating a class Vector and overriding the add method to add two vectors.\n",
        "'''\n",
        "'Ans'\n",
        "class Vector:\n",
        "    def __init__(self, x, y):\n",
        "        self.x = x\n",
        "        self.y = y\n",
        "\n",
        "    def __add__(self, other):\n",
        "        return Vector(self.x + other.x, self.y + other.y)\n",
        "\n",
        "    def __str__(self):\n",
        "        return f\"Vector({self.x}, {self.y})\"\n",
        "\n",
        "v1 = Vector(2, 3)\n",
        "v2 = Vector(1, 1)\n",
        "print(v1 + v2)"
      ],
      "metadata": {
        "colab": {
          "base_uri": "https://localhost:8080/"
        },
        "id": "ZjExU2G3nuNK",
        "outputId": "1a769f29-2568-454d-d7fb-d8b01c8b7209"
      },
      "execution_count": 8,
      "outputs": [
        {
          "output_type": "stream",
          "name": "stdout",
          "text": [
            "Vector(3, 4)\n"
          ]
        }
      ]
    },
    {
      "cell_type": "code",
      "source": [
        "'''Q.11: Create a class Person with attributes name and age. Add a method greet() that prints \"Hello, my name is {name} and I am {age} years old.\"\n",
        "'''\n",
        "'Ans'\n",
        "class Person:\n",
        "    def __init__(self, name, age):\n",
        "        self.name = name\n",
        "        self.age = age\n",
        "\n",
        "    def greet(self):\n",
        "        print(f\"Hello, my name is {self.name} and I am {self.age} years old.\")\n",
        "\n",
        "person = Person(\"John\", 28)\n",
        "person.greet()"
      ],
      "metadata": {
        "colab": {
          "base_uri": "https://localhost:8080/"
        },
        "id": "3AJDnuAIn6fV",
        "outputId": "dc169d91-9577-497e-c356-f07db0f56432"
      },
      "execution_count": 9,
      "outputs": [
        {
          "output_type": "stream",
          "name": "stdout",
          "text": [
            "Hello, my name is John and I am 28 years old.\n"
          ]
        }
      ]
    },
    {
      "cell_type": "code",
      "source": [
        "'''Q.12: Implement a class Student with attributes name and grades. Create a method average_grade() to compute the average of the grades.\n",
        "'''\n",
        "'Ans'\n",
        "class Student:\n",
        "    def __init__(self, name, grades):\n",
        "        self.name = name\n",
        "        self.grades = grades\n",
        "\n",
        "    def average_grade(self):\n",
        "        return sum(self.grades) / len(self.grades) if self.grades else 0\n",
        "\n",
        "student = Student(\"Anna\", [85, 90, 78])\n",
        "print(student.average_grade())"
      ],
      "metadata": {
        "colab": {
          "base_uri": "https://localhost:8080/"
        },
        "id": "OCo5RRc4oKdu",
        "outputId": "08ce56c4-3f8f-4417-f619-4aa7275d0951"
      },
      "execution_count": 10,
      "outputs": [
        {
          "output_type": "stream",
          "name": "stdout",
          "text": [
            "84.33333333333333\n"
          ]
        }
      ]
    },
    {
      "cell_type": "code",
      "source": [
        "'''Q.13: Create a class Rectangle with methods set_dimensions() to set the dimensions and area() to calculate the area.\n",
        "'''\n",
        "'Ans'\n",
        "class Rectangle:\n",
        "    def __init__(self):\n",
        "        self.length = 0\n",
        "        self.width = 0\n",
        "\n",
        "    def set_dimensions(self, length, width):\n",
        "        self.length = length\n",
        "        self.width = width\n",
        "\n",
        "    def area(self):\n",
        "        return self.length * self.width\n",
        "\n",
        "rect = Rectangle()\n",
        "rect.set_dimensions(5, 3)\n",
        "print(rect.area())"
      ],
      "metadata": {
        "colab": {
          "base_uri": "https://localhost:8080/"
        },
        "id": "TTlS9SlBoTGp",
        "outputId": "7bab3ffb-d1b4-4113-9ed6-1ffa560707c2"
      },
      "execution_count": 11,
      "outputs": [
        {
          "output_type": "stream",
          "name": "stdout",
          "text": [
            "15\n"
          ]
        }
      ]
    },
    {
      "cell_type": "code",
      "source": [
        "'''Q.14: Create a class Employee with a method calculate_salary() that computes the salary based on hours worked and hourly rate. Create a derived class Manager that adds a bonus to the salary.\n",
        "'''\n",
        "'Ans'\n",
        "class Employee:\n",
        "    def __init__(self, hours_worked, hourly_rate):\n",
        "        self.hours_worked = hours_worked\n",
        "        self.hourly_rate = hourly_rate\n",
        "\n",
        "    def calculate_salary(self):\n",
        "        return self.hours_worked * self.hourly_rate\n",
        "\n",
        "class Manager(Employee):\n",
        "    def __init__(self, hours_worked, hourly_rate, bonus):\n",
        "        super().__init__(hours_worked, hourly_rate)\n",
        "        self.bonus = bonus\n",
        "\n",
        "    def calculate_salary(self):\n",
        "        return super().calculate_salary() + self.bonus\n",
        "\n",
        "emp = Employee(40, 20)\n",
        "mgr = Manager(40, 20, 500)\n",
        "print(emp.calculate_salary())\n",
        "print(mgr.calculate_salary())"
      ],
      "metadata": {
        "colab": {
          "base_uri": "https://localhost:8080/"
        },
        "id": "7Pc2EPXJoZ-b",
        "outputId": "edd17ad1-0934-4cf1-9e9b-7b19c834abbb"
      },
      "execution_count": 12,
      "outputs": [
        {
          "output_type": "stream",
          "name": "stdout",
          "text": [
            "800\n",
            "1300\n"
          ]
        }
      ]
    },
    {
      "cell_type": "code",
      "source": [
        "'''Q.15: Create a class Product with attributes name, price, and quantity. Implement a method total_price() that calculates the total price of the product.\n",
        "'''\n",
        "'Ans'\n",
        "class Product:\n",
        "    def __init__(self, name, price, quantity):\n",
        "        self.name = name\n",
        "        self.price = price\n",
        "        self.quantity = quantity\n",
        "\n",
        "    def total_price(self):\n",
        "        return self.price * self.quantity\n",
        "\n",
        "product = Product(\"Laptop\", 1000, 3)\n",
        "print(product.total_price())"
      ],
      "metadata": {
        "colab": {
          "base_uri": "https://localhost:8080/"
        },
        "id": "PSE4xjDZol-F",
        "outputId": "5df7ba28-0fc9-4ef0-eb93-4835eaf4d85f"
      },
      "execution_count": 13,
      "outputs": [
        {
          "output_type": "stream",
          "name": "stdout",
          "text": [
            "3000\n"
          ]
        }
      ]
    },
    {
      "cell_type": "code",
      "source": [
        "'''Q.16: Create a class Animal with an abstract method sound(). Create two derived classes Cow and Sheep that implement the sound() method.\n",
        "'''\n",
        "'Ans'\n",
        "from abc import ABC, abstractmethod\n",
        "\n",
        "class Animal(ABC):\n",
        "    @abstractmethod\n",
        "    def sound(self):\n",
        "        pass\n",
        "\n",
        "class Cow(Animal):\n",
        "    def sound(self):\n",
        "        print(\"Moo\")\n",
        "\n",
        "class Sheep(Animal):\n",
        "    def sound(self):\n",
        "        print(\"Baa\")\n",
        "\n",
        "cow = Cow()\n",
        "sheep = Sheep()\n",
        "cow.sound()\n",
        "sheep.sound()"
      ],
      "metadata": {
        "colab": {
          "base_uri": "https://localhost:8080/"
        },
        "id": "hH1rnZQQotaG",
        "outputId": "a7ae2808-faa9-4a41-c71b-974174b2aec4"
      },
      "execution_count": 14,
      "outputs": [
        {
          "output_type": "stream",
          "name": "stdout",
          "text": [
            "Moo\n",
            "Baa\n"
          ]
        }
      ]
    },
    {
      "cell_type": "code",
      "source": [
        "'''Q.17: Create a class Book with attributes title, author, and year_published. Add a method get_book_info() that returns a formatted string with the book's details.\n",
        "'''\n",
        "'Ans'\n",
        "class Book:\n",
        "    def __init__(self, title, author, year_published):\n",
        "        self.title = title\n",
        "        self.author = author\n",
        "        self.year_published = year_published\n",
        "\n",
        "    def get_book_info(self):\n",
        "        return f\"{self.title} by {self.author}, published in {self.year_published}\"\n",
        "\n",
        "book = Book(\"1984\", \"George Orwell\", 1949)\n",
        "print(book.get_book_info())"
      ],
      "metadata": {
        "colab": {
          "base_uri": "https://localhost:8080/"
        },
        "id": "D3syrszTo8IA",
        "outputId": "0a89f561-e925-46da-d0d1-0393419b3782"
      },
      "execution_count": 15,
      "outputs": [
        {
          "output_type": "stream",
          "name": "stdout",
          "text": [
            "1984 by George Orwell, published in 1949\n"
          ]
        }
      ]
    },
    {
      "cell_type": "code",
      "source": [
        "'''Q.18: Create a class House with attributes address and price. Create a derived class Mansion that adds an attribute number_of_rooms.\n",
        "'''\n",
        "'Ans'\n",
        "class House:\n",
        "    def __init__(self, address, price):\n",
        "        self.address = address\n",
        "        self.price = price\n",
        "\n",
        "class Mansion(House):\n",
        "    def __init__(self, address, price, number_of_rooms):\n",
        "        super().__init__(address, price)\n",
        "        self.number_of_rooms = number_of_rooms\n",
        "\n",
        "mansion = Mansion(\"123 Luxury St\", 1000000, 10)\n",
        "print(mansion.address, mansion.price, mansion.number_of_rooms)"
      ],
      "metadata": {
        "colab": {
          "base_uri": "https://localhost:8080/"
        },
        "id": "6QrvIU-IpUH0",
        "outputId": "fb35a948-77da-4e04-a9b5-465817cbce5e"
      },
      "execution_count": 16,
      "outputs": [
        {
          "output_type": "stream",
          "name": "stdout",
          "text": [
            "123 Luxury St 1000000 10\n"
          ]
        }
      ]
    },
    {
      "cell_type": "code",
      "source": [],
      "metadata": {
        "id": "gaxevOnUptA8"
      },
      "execution_count": null,
      "outputs": []
    }
  ]
}